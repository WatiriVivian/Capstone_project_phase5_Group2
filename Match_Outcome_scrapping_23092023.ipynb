{
 "cells": [
  {
   "cell_type": "code",
   "execution_count": 1,
   "metadata": {
    "id": "pTFUm_97EjOV"
   },
   "outputs": [],
   "source": [
    "# The goal is to download the html of a page that shows the standigs of the epl.\n",
    "#The requests library will help in making HTTP requests to the website with our data.\n",
    "import requests\n",
    "\n",
    "import time"
   ]
  },
  {
   "cell_type": "code",
   "execution_count": 2,
   "metadata": {
    "id": "doE3bcCDFYBu"
   },
   "outputs": [],
   "source": [
    "# Defininig the url we are scrapping.\n",
    "standings_url = \"https://fbref.com/en/comps/9/Premier-League-Stats\""
   ]
  },
  {
   "cell_type": "code",
   "execution_count": 3,
   "metadata": {
    "id": "qkzuaF9PFqSw"
   },
   "outputs": [],
   "source": [
    "#Downloading the HTML of our page fbref.com defined as standings_url.\n",
    "standings_html_data = requests.get(standings_url)\n"
   ]
  },
  {
   "cell_type": "code",
   "execution_count": 4,
   "metadata": {
    "id": "WQHXL8wmF2J1"
   },
   "outputs": [],
   "source": [
    "from bs4 import BeautifulSoup"
   ]
  },
  {
   "cell_type": "code",
   "execution_count": 5,
   "metadata": {
    "id": "fF5RyOGHbYgI"
   },
   "outputs": [],
   "source": [
    "#Initalize the soup object, parsing in the HTML object.\n",
    "soup = BeautifulSoup(standings_html_data.text)\n",
    "\n",
    "#selecting the table containing the data\n",
    "standings_html_table = soup.select('table.stats_table')[0]  # at this point we only have the hypertext of the table e are interested in\n",
    "\n",
    "#getting all the anchors in our table.\n",
    "standings_a_tag = standings_html_table.find_all('a')\n",
    "\n",
    "#Getting the href for each link.\n",
    "standings_href_links = [l.get(\"href\") for l in standings_a_tag]\n",
    "\n",
    "#Filtering to only have links with the squads or team\n",
    "squad_links = [l for l in standings_href_links if '/squads/' in l]"
   ]
  },
  {
   "cell_type": "code",
   "execution_count": 6,
   "metadata": {},
   "outputs": [
    {
     "data": {
      "text/plain": [
       "['/en/squads/b8fd03ef/Manchester-City-Stats',\n",
       " '/en/squads/361ca564/Tottenham-Hotspur-Stats',\n",
       " '/en/squads/822bd0ba/Liverpool-Stats',\n",
       " '/en/squads/18bb7c10/Arsenal-Stats',\n",
       " '/en/squads/d07537b9/Brighton-and-Hove-Albion-Stats',\n",
       " '/en/squads/7c21e445/West-Ham-United-Stats',\n",
       " '/en/squads/8602292d/Aston-Villa-Stats',\n",
       " '/en/squads/e4a775cb/Nottingham-Forest-Stats',\n",
       " '/en/squads/47c64c55/Crystal-Palace-Stats',\n",
       " '/en/squads/fd962109/Fulham-Stats',\n",
       " '/en/squads/cd051869/Brentford-Stats',\n",
       " '/en/squads/b2b47a98/Newcastle-United-Stats',\n",
       " '/en/squads/19538871/Manchester-United-Stats',\n",
       " '/en/squads/cff3d9bb/Chelsea-Stats',\n",
       " '/en/squads/4ba7cbea/Bournemouth-Stats',\n",
       " '/en/squads/8cec06e1/Wolverhampton-Wanderers-Stats',\n",
       " '/en/squads/1df6b87e/Sheffield-United-Stats',\n",
       " '/en/squads/d3fd31cc/Everton-Stats',\n",
       " '/en/squads/943e8050/Burnley-Stats',\n",
       " '/en/squads/e297cd13/Luton-Town-Stats']"
      ]
     },
     "execution_count": 6,
     "metadata": {},
     "output_type": "execute_result"
    }
   ],
   "source": [
    "squad_links"
   ]
  },
  {
   "cell_type": "code",
   "execution_count": 7,
   "metadata": {
    "colab": {
     "base_uri": "https://localhost:8080/"
    },
    "id": "Dc5Ut2Dibb2E",
    "outputId": "b6f82e0f-be08-4558-9da0-36337dc3cdbc"
   },
   "outputs": [
    {
     "data": {
      "text/plain": [
       "['https://fbref.com/en/squads/b8fd03ef/Manchester-City-Stats',\n",
       " 'https://fbref.com/en/squads/361ca564/Tottenham-Hotspur-Stats',\n",
       " 'https://fbref.com/en/squads/822bd0ba/Liverpool-Stats',\n",
       " 'https://fbref.com/en/squads/18bb7c10/Arsenal-Stats',\n",
       " 'https://fbref.com/en/squads/d07537b9/Brighton-and-Hove-Albion-Stats',\n",
       " 'https://fbref.com/en/squads/7c21e445/West-Ham-United-Stats',\n",
       " 'https://fbref.com/en/squads/8602292d/Aston-Villa-Stats',\n",
       " 'https://fbref.com/en/squads/e4a775cb/Nottingham-Forest-Stats',\n",
       " 'https://fbref.com/en/squads/47c64c55/Crystal-Palace-Stats',\n",
       " 'https://fbref.com/en/squads/fd962109/Fulham-Stats',\n",
       " 'https://fbref.com/en/squads/cd051869/Brentford-Stats',\n",
       " 'https://fbref.com/en/squads/b2b47a98/Newcastle-United-Stats',\n",
       " 'https://fbref.com/en/squads/19538871/Manchester-United-Stats',\n",
       " 'https://fbref.com/en/squads/cff3d9bb/Chelsea-Stats',\n",
       " 'https://fbref.com/en/squads/4ba7cbea/Bournemouth-Stats',\n",
       " 'https://fbref.com/en/squads/8cec06e1/Wolverhampton-Wanderers-Stats',\n",
       " 'https://fbref.com/en/squads/1df6b87e/Sheffield-United-Stats',\n",
       " 'https://fbref.com/en/squads/d3fd31cc/Everton-Stats',\n",
       " 'https://fbref.com/en/squads/943e8050/Burnley-Stats',\n",
       " 'https://fbref.com/en/squads/e297cd13/Luton-Town-Stats']"
      ]
     },
     "execution_count": 7,
     "metadata": {},
     "output_type": "execute_result"
    }
   ],
   "source": [
    "#Getting the full url by adding the string \" https://fbref.com\" to our links.\n",
    "squad_urls = [f\"https://fbref.com{l}\" for l in squad_links]\n",
    "squad_urls"
   ]
  },
  {
   "cell_type": "code",
   "execution_count": 8,
   "metadata": {
    "id": "bGBiFdjL5OGT"
   },
   "outputs": [],
   "source": [
    "# getting data on one squad from the squad url, .\n",
    "mancity_url = squad_urls[0]\n",
    "mancity_data = requests.get(mancity_url)"
   ]
  },
  {
   "cell_type": "code",
   "execution_count": 9,
   "metadata": {
    "id": "BteUxD-u7fnw"
   },
   "outputs": [
    {
     "data": {
      "text/plain": [
       "[          Date   Time              Comp                Round  Day    Venue   \n",
       " 0   2023-08-06  16:00  Community Shield  FA Community Shield  Sun  Neutral  \\\n",
       " 1   2023-08-11  20:00    Premier League          Matchweek 1  Fri     Away   \n",
       " 2   2023-08-16  22:00         Super Cup       UEFA Super Cup  Wed     Home   \n",
       " 3   2023-08-19  20:00    Premier League          Matchweek 2  Sat     Home   \n",
       " 4   2023-08-27  14:00    Premier League          Matchweek 3  Sun     Away   \n",
       " 5   2023-09-02  15:00    Premier League          Matchweek 4  Sat     Home   \n",
       " 6   2023-09-16  15:00    Premier League          Matchweek 5  Sat     Away   \n",
       " 7   2023-09-19  20:00      Champions Lg          Group stage  Tue     Home   \n",
       " 8   2023-09-23  15:00    Premier League          Matchweek 6  Sat     Home   \n",
       " 9   2023-09-27  20:00           EFL Cup          Third round  Wed     Away   \n",
       " 10  2023-09-30  15:00    Premier League          Matchweek 7  Sat     Away   \n",
       " 11  2023-10-04  21:00      Champions Lg          Group stage  Wed     Away   \n",
       " 12  2023-10-08  16:30    Premier League          Matchweek 8  Sun     Away   \n",
       " 13  2023-10-21  15:00    Premier League          Matchweek 9  Sat     Home   \n",
       " 14  2023-10-25  21:00      Champions Lg          Group stage  Wed     Away   \n",
       " 15  2023-10-29  15:30    Premier League         Matchweek 10  Sun     Away   \n",
       " 16  2023-11-04  15:00    Premier League         Matchweek 11  Sat     Home   \n",
       " 17  2023-11-07  20:00      Champions Lg          Group stage  Tue     Home   \n",
       " 18  2023-11-12  16:30    Premier League         Matchweek 12  Sun     Away   \n",
       " 19  2023-11-25    NaN    Premier League         Matchweek 13  Sat     Home   \n",
       " 20  2023-11-28  20:00      Champions Lg          Group stage  Tue     Home   \n",
       " 21  2023-12-02    NaN    Premier League         Matchweek 14  Sat     Home   \n",
       " 22  2023-12-05    NaN    Premier League         Matchweek 15  Tue     Away   \n",
       " 23  2023-12-09    NaN    Premier League         Matchweek 16  Sat     Away   \n",
       " 24  2023-12-13  18:45      Champions Lg          Group stage  Wed     Away   \n",
       " 25  2023-12-16    NaN    Premier League         Matchweek 17  Sat     Home   \n",
       " 26  2023-12-23    NaN    Premier League         Matchweek 18  Sat     Home   \n",
       " 27  2023-12-26    NaN    Premier League         Matchweek 19  Tue     Away   \n",
       " 28  2023-12-30    NaN    Premier League         Matchweek 20  Sat     Home   \n",
       " 29  2024-01-13    NaN    Premier League         Matchweek 21  Sat     Away   \n",
       " 30  2024-01-31    NaN    Premier League         Matchweek 22  Wed     Home   \n",
       " 31  2024-02-03    NaN    Premier League         Matchweek 23  Sat     Away   \n",
       " 32  2024-02-10    NaN    Premier League         Matchweek 24  Sat     Home   \n",
       " 33  2024-02-17    NaN    Premier League         Matchweek 25  Sat     Home   \n",
       " 34  2024-02-24    NaN    Premier League         Matchweek 26  Sat     Away   \n",
       " 35  2024-03-02    NaN    Premier League         Matchweek 27  Sat     Home   \n",
       " 36  2024-03-09    NaN    Premier League         Matchweek 28  Sat     Away   \n",
       " 37  2024-03-16    NaN    Premier League         Matchweek 29  Sat     Away   \n",
       " 38  2024-03-30    NaN    Premier League         Matchweek 30  Sat     Home   \n",
       " 39  2024-04-03    NaN    Premier League         Matchweek 31  Wed     Home   \n",
       " 40  2024-04-06    NaN    Premier League         Matchweek 32  Sat     Away   \n",
       " 41  2024-04-13    NaN    Premier League         Matchweek 33  Sat     Home   \n",
       " 42  2024-04-20    NaN    Premier League         Matchweek 34  Sat     Away   \n",
       " 43  2024-04-27    NaN    Premier League         Matchweek 35  Sat     Away   \n",
       " 44  2024-05-04    NaN    Premier League         Matchweek 36  Sat     Home   \n",
       " 45  2024-05-11    NaN    Premier League         Matchweek 37  Sat     Away   \n",
       " 46  2024-05-19    NaN    Premier League         Matchweek 38  Sun     Home   \n",
       " \n",
       "    Result     GF     GA         Opponent   xG  xGA  Poss  Attendance   \n",
       " 0       D  1 (1)  1 (4)          Arsenal  NaN  NaN  55.0     81145.0  \\\n",
       " 1       W      3      0          Burnley  1.9  0.3  65.0     21572.0   \n",
       " 2       D  1 (5)  1 (4)       es Sevilla  NaN  NaN  74.0         NaN   \n",
       " 3       W      1      0    Newcastle Utd  1.0  0.3  59.0         NaN   \n",
       " 4       W      2      1    Sheffield Utd  3.5  0.7  79.0     31336.0   \n",
       " 5       W      5      1           Fulham  2.2  1.4  68.0     52899.0   \n",
       " 6       W      3      1         West Ham  3.6  0.9  68.0     62475.0   \n",
       " 7       W      3      1      rs Red Star  4.1  0.8  76.0     50204.0   \n",
       " 8     NaN    NaN    NaN  Nott'ham Forest  NaN  NaN   NaN         NaN   \n",
       " 9     NaN    NaN    NaN    Newcastle Utd  NaN  NaN   NaN         NaN   \n",
       " 10    NaN    NaN    NaN           Wolves  NaN  NaN   NaN         NaN   \n",
       " 11    NaN    NaN    NaN    de RB Leipzig  NaN  NaN   NaN         NaN   \n",
       " 12    NaN    NaN    NaN          Arsenal  NaN  NaN   NaN         NaN   \n",
       " 13    NaN    NaN    NaN         Brighton  NaN  NaN   NaN         NaN   \n",
       " 14    NaN    NaN    NaN    ch Young Boys  NaN  NaN   NaN         NaN   \n",
       " 15    NaN    NaN    NaN   Manchester Utd  NaN  NaN   NaN         NaN   \n",
       " 16    NaN    NaN    NaN      Bournemouth  NaN  NaN   NaN         NaN   \n",
       " 17    NaN    NaN    NaN    ch Young Boys  NaN  NaN   NaN         NaN   \n",
       " 18    NaN    NaN    NaN          Chelsea  NaN  NaN   NaN         NaN   \n",
       " 19    NaN    NaN    NaN        Liverpool  NaN  NaN   NaN         NaN   \n",
       " 20    NaN    NaN    NaN    de RB Leipzig  NaN  NaN   NaN         NaN   \n",
       " 21    NaN    NaN    NaN        Tottenham  NaN  NaN   NaN         NaN   \n",
       " 22    NaN    NaN    NaN      Aston Villa  NaN  NaN   NaN         NaN   \n",
       " 23    NaN    NaN    NaN       Luton Town  NaN  NaN   NaN         NaN   \n",
       " 24    NaN    NaN    NaN      rs Red Star  NaN  NaN   NaN         NaN   \n",
       " 25    NaN    NaN    NaN   Crystal Palace  NaN  NaN   NaN         NaN   \n",
       " 26    NaN    NaN    NaN        Brentford  NaN  NaN   NaN         NaN   \n",
       " 27    NaN    NaN    NaN          Everton  NaN  NaN   NaN         NaN   \n",
       " 28    NaN    NaN    NaN    Sheffield Utd  NaN  NaN   NaN         NaN   \n",
       " 29    NaN    NaN    NaN    Newcastle Utd  NaN  NaN   NaN         NaN   \n",
       " 30    NaN    NaN    NaN          Burnley  NaN  NaN   NaN         NaN   \n",
       " 31    NaN    NaN    NaN        Brentford  NaN  NaN   NaN         NaN   \n",
       " 32    NaN    NaN    NaN          Everton  NaN  NaN   NaN         NaN   \n",
       " 33    NaN    NaN    NaN          Chelsea  NaN  NaN   NaN         NaN   \n",
       " 34    NaN    NaN    NaN      Bournemouth  NaN  NaN   NaN         NaN   \n",
       " 35    NaN    NaN    NaN   Manchester Utd  NaN  NaN   NaN         NaN   \n",
       " 36    NaN    NaN    NaN        Liverpool  NaN  NaN   NaN         NaN   \n",
       " 37    NaN    NaN    NaN         Brighton  NaN  NaN   NaN         NaN   \n",
       " 38    NaN    NaN    NaN          Arsenal  NaN  NaN   NaN         NaN   \n",
       " 39    NaN    NaN    NaN      Aston Villa  NaN  NaN   NaN         NaN   \n",
       " 40    NaN    NaN    NaN   Crystal Palace  NaN  NaN   NaN         NaN   \n",
       " 41    NaN    NaN    NaN       Luton Town  NaN  NaN   NaN         NaN   \n",
       " 42    NaN    NaN    NaN        Tottenham  NaN  NaN   NaN         NaN   \n",
       " 43    NaN    NaN    NaN  Nott'ham Forest  NaN  NaN   NaN         NaN   \n",
       " 44    NaN    NaN    NaN           Wolves  NaN  NaN   NaN         NaN   \n",
       " 45    NaN    NaN    NaN           Fulham  NaN  NaN   NaN         NaN   \n",
       " 46    NaN    NaN    NaN         West Ham  NaN  NaN   NaN         NaN   \n",
       " \n",
       "             Captain Formation            Referee  Match Report   \n",
       " 0       Kyle Walker   4-2-3-1     Stuart Attwell  Match Report  \\\n",
       " 1   Kevin De Bruyne   4-2-3-1       Craig Pawson  Match Report   \n",
       " 2       Kyle Walker   4-2-3-1  François Letexier  Match Report   \n",
       " 3       Kyle Walker   4-2-3-1       Robert Jones  Match Report   \n",
       " 4       Kyle Walker   4-2-3-1     Jarred Gillett  Match Report   \n",
       " 5       Kyle Walker   4-2-3-1     Michael Oliver  Match Report   \n",
       " 6       Kyle Walker   4-2-3-1        Andy Madley  Match Report   \n",
       " 7       Kyle Walker   4-2-3-1      João Pinheiro  Match Report   \n",
       " 8               NaN       NaN                NaN  Head-to-Head   \n",
       " 9               NaN       NaN                NaN  Head-to-Head   \n",
       " 10              NaN       NaN                NaN  Head-to-Head   \n",
       " 11              NaN       NaN                NaN  Head-to-Head   \n",
       " 12              NaN       NaN                NaN  Head-to-Head   \n",
       " 13              NaN       NaN                NaN  Head-to-Head   \n",
       " 14              NaN       NaN                NaN  Head-to-Head   \n",
       " 15              NaN       NaN                NaN  Head-to-Head   \n",
       " 16              NaN       NaN                NaN  Head-to-Head   \n",
       " 17              NaN       NaN                NaN  Head-to-Head   \n",
       " 18              NaN       NaN                NaN  Head-to-Head   \n",
       " 19              NaN       NaN                NaN  Head-to-Head   \n",
       " 20              NaN       NaN                NaN  Head-to-Head   \n",
       " 21              NaN       NaN                NaN  Head-to-Head   \n",
       " 22              NaN       NaN                NaN  Head-to-Head   \n",
       " 23              NaN       NaN                NaN  Head-to-Head   \n",
       " 24              NaN       NaN                NaN  Head-to-Head   \n",
       " 25              NaN       NaN                NaN  Head-to-Head   \n",
       " 26              NaN       NaN                NaN           NaN   \n",
       " 27              NaN       NaN                NaN  Head-to-Head   \n",
       " 28              NaN       NaN                NaN  Head-to-Head   \n",
       " 29              NaN       NaN                NaN  Head-to-Head   \n",
       " 30              NaN       NaN                NaN  Head-to-Head   \n",
       " 31              NaN       NaN                NaN  Head-to-Head   \n",
       " 32              NaN       NaN                NaN  Head-to-Head   \n",
       " 33              NaN       NaN                NaN  Head-to-Head   \n",
       " 34              NaN       NaN                NaN  Head-to-Head   \n",
       " 35              NaN       NaN                NaN  Head-to-Head   \n",
       " 36              NaN       NaN                NaN  Head-to-Head   \n",
       " 37              NaN       NaN                NaN  Head-to-Head   \n",
       " 38              NaN       NaN                NaN  Head-to-Head   \n",
       " 39              NaN       NaN                NaN  Head-to-Head   \n",
       " 40              NaN       NaN                NaN  Head-to-Head   \n",
       " 41              NaN       NaN                NaN  Head-to-Head   \n",
       " 42              NaN       NaN                NaN  Head-to-Head   \n",
       " 43              NaN       NaN                NaN  Head-to-Head   \n",
       " 44              NaN       NaN                NaN  Head-to-Head   \n",
       " 45              NaN       NaN                NaN  Head-to-Head   \n",
       " 46              NaN       NaN                NaN  Head-to-Head   \n",
       " \n",
       "                                                 Notes  \n",
       " 0   Arsenal won on penalty kicks following normal ...  \n",
       " 1                                                 NaN  \n",
       " 2                                                 NaN  \n",
       " 3                                                 NaN  \n",
       " 4                                                 NaN  \n",
       " 5                                                 NaN  \n",
       " 6                                                 NaN  \n",
       " 7                                                 NaN  \n",
       " 8                                                 NaN  \n",
       " 9                                                 NaN  \n",
       " 10                                                NaN  \n",
       " 11                                                NaN  \n",
       " 12                                                NaN  \n",
       " 13                                                NaN  \n",
       " 14                                                NaN  \n",
       " 15                                                NaN  \n",
       " 16                                                NaN  \n",
       " 17                                                NaN  \n",
       " 18                                                NaN  \n",
       " 19                                                NaN  \n",
       " 20                                                NaN  \n",
       " 21                                                NaN  \n",
       " 22                                                NaN  \n",
       " 23                                                NaN  \n",
       " 24                                                NaN  \n",
       " 25                                                NaN  \n",
       " 26                                    Match Postponed  \n",
       " 27                                                NaN  \n",
       " 28                                                NaN  \n",
       " 29                                                NaN  \n",
       " 30                                                NaN  \n",
       " 31                                                NaN  \n",
       " 32                                                NaN  \n",
       " 33                                                NaN  \n",
       " 34                                                NaN  \n",
       " 35                                                NaN  \n",
       " 36                                                NaN  \n",
       " 37                                                NaN  \n",
       " 38                                                NaN  \n",
       " 39                                                NaN  \n",
       " 40                                                NaN  \n",
       " 41                                                NaN  \n",
       " 42                                                NaN  \n",
       " 43                                                NaN  \n",
       " 44                                                NaN  \n",
       " 45                                                NaN  \n",
       " 46                                                NaN  ]"
      ]
     },
     "execution_count": 9,
     "metadata": {},
     "output_type": "execute_result"
    }
   ],
   "source": [
    "import pandas as pd\n",
    "\n",
    "# Extracting ontly the table with scores and fixtures under mancity.\n",
    "mancity_matches = pd.read_html (mancity_data.text, match= \"Scores & Fixtures\")\n",
    "mancity_matches\n",
    "\n"
   ]
  },
  {
   "cell_type": "markdown",
   "metadata": {
    "id": "jiIW1DDT938q"
   },
   "source": [
    "### Getting shooting data"
   ]
  },
  {
   "cell_type": "code",
   "execution_count": 10,
   "metadata": {
    "id": "xiecGjd28uWc"
   },
   "outputs": [],
   "source": [
    "#Parse in the html of the team data.In this cas,our teamin ManCity.\n",
    "shooting_soup = BeautifulSoup(mancity_data.text)\n",
    "\n",
    "#Find all anchor tags for the shooting data.\n",
    "shooting_a_tags = shooting_soup.find_all('a')\n",
    "\n",
    "# Extract the hrefs\n",
    "shootings_hrefs = [l.get(\"href\") for l in shooting_a_tags]\n",
    "\n",
    "#Extract the links that contain 'all_comps/shooting/'\n",
    "shooting_links = [l for l in shootings_hrefs if l and'all_comps/shooting/' in l]\n",
    "\n",
    "\n"
   ]
  },
  {
   "cell_type": "code",
   "execution_count": 11,
   "metadata": {
    "id": "khvmwSPJ-7o1"
   },
   "outputs": [],
   "source": [
    "# Getting the html of the shooting data.\n",
    "\n",
    "shooting_data_html = requests.get(f\"https://fbref.com{shooting_links[0]}\")\n"
   ]
  },
  {
   "cell_type": "code",
   "execution_count": 12,
   "metadata": {
    "id": "BuNt8FJq_p9n"
   },
   "outputs": [],
   "source": [
    "shooting_data = pd.read_html(shooting_data_html.text, match= \"Shooting\")[0]\n"
   ]
  },
  {
   "cell_type": "code",
   "execution_count": 13,
   "metadata": {
    "id": "fz-nRRjKABz5"
   },
   "outputs": [
    {
     "data": {
      "text/html": [
       "<div>\n",
       "<style scoped>\n",
       "    .dataframe tbody tr th:only-of-type {\n",
       "        vertical-align: middle;\n",
       "    }\n",
       "\n",
       "    .dataframe tbody tr th {\n",
       "        vertical-align: top;\n",
       "    }\n",
       "\n",
       "    .dataframe thead th {\n",
       "        text-align: right;\n",
       "    }\n",
       "</style>\n",
       "<table border=\"1\" class=\"dataframe\">\n",
       "  <thead>\n",
       "    <tr style=\"text-align: right;\">\n",
       "      <th></th>\n",
       "      <th>Date</th>\n",
       "      <th>Time</th>\n",
       "      <th>Comp</th>\n",
       "      <th>Round</th>\n",
       "      <th>Day</th>\n",
       "      <th>Venue</th>\n",
       "      <th>Result</th>\n",
       "      <th>GF</th>\n",
       "      <th>GA</th>\n",
       "      <th>Opponent</th>\n",
       "      <th>...</th>\n",
       "      <th>Dist</th>\n",
       "      <th>FK</th>\n",
       "      <th>PK</th>\n",
       "      <th>PKatt</th>\n",
       "      <th>xG</th>\n",
       "      <th>npxG</th>\n",
       "      <th>npxG/Sh</th>\n",
       "      <th>G-xG</th>\n",
       "      <th>np:G-xG</th>\n",
       "      <th>Match Report</th>\n",
       "    </tr>\n",
       "  </thead>\n",
       "  <tbody>\n",
       "    <tr>\n",
       "      <th>0</th>\n",
       "      <td>2023-08-06</td>\n",
       "      <td>16:00</td>\n",
       "      <td>Community Shield</td>\n",
       "      <td>FA Community Shield</td>\n",
       "      <td>Sun</td>\n",
       "      <td>Neutral</td>\n",
       "      <td>D</td>\n",
       "      <td>1 (1)</td>\n",
       "      <td>1 (4)</td>\n",
       "      <td>Arsenal</td>\n",
       "      <td>...</td>\n",
       "      <td>NaN</td>\n",
       "      <td>NaN</td>\n",
       "      <td>0</td>\n",
       "      <td>0</td>\n",
       "      <td>NaN</td>\n",
       "      <td>NaN</td>\n",
       "      <td>NaN</td>\n",
       "      <td>NaN</td>\n",
       "      <td>NaN</td>\n",
       "      <td>Match Report</td>\n",
       "    </tr>\n",
       "    <tr>\n",
       "      <th>1</th>\n",
       "      <td>2023-08-11</td>\n",
       "      <td>20:00</td>\n",
       "      <td>Premier League</td>\n",
       "      <td>Matchweek 1</td>\n",
       "      <td>Fri</td>\n",
       "      <td>Away</td>\n",
       "      <td>W</td>\n",
       "      <td>3</td>\n",
       "      <td>0</td>\n",
       "      <td>Burnley</td>\n",
       "      <td>...</td>\n",
       "      <td>13.9</td>\n",
       "      <td>0.0</td>\n",
       "      <td>0</td>\n",
       "      <td>0</td>\n",
       "      <td>1.9</td>\n",
       "      <td>1.9</td>\n",
       "      <td>0.12</td>\n",
       "      <td>1.1</td>\n",
       "      <td>1.1</td>\n",
       "      <td>Match Report</td>\n",
       "    </tr>\n",
       "  </tbody>\n",
       "</table>\n",
       "<p>2 rows × 26 columns</p>\n",
       "</div>"
      ],
      "text/plain": [
       "         Date   Time              Comp                Round  Day    Venue   \n",
       "0  2023-08-06  16:00  Community Shield  FA Community Shield  Sun  Neutral  \\\n",
       "1  2023-08-11  20:00    Premier League          Matchweek 1  Fri     Away   \n",
       "\n",
       "  Result     GF     GA Opponent  ...  Dist   FK  PK  PKatt   xG  npxG   \n",
       "0      D  1 (1)  1 (4)  Arsenal  ...   NaN  NaN   0      0  NaN   NaN  \\\n",
       "1      W      3      0  Burnley  ...  13.9  0.0   0      0  1.9   1.9   \n",
       "\n",
       "   npxG/Sh  G-xG  np:G-xG  Match Report  \n",
       "0      NaN   NaN      NaN  Match Report  \n",
       "1     0.12   1.1      1.1  Match Report  \n",
       "\n",
       "[2 rows x 26 columns]"
      ]
     },
     "execution_count": 13,
     "metadata": {},
     "output_type": "execute_result"
    }
   ],
   "source": [
    "shooting_data.columns = shooting_data.columns.droplevel()\n",
    "shooting_data.head(2)\n"
   ]
  },
  {
   "cell_type": "markdown",
   "metadata": {},
   "source": [
    "### Extract Passing Data."
   ]
  },
  {
   "cell_type": "code",
   "execution_count": 14,
   "metadata": {},
   "outputs": [
    {
     "data": {
      "text/plain": [
       "['/en/squads/b8fd03ef/2023-2024/matchlogs/all_comps/passing/Manchester-City-Match-Logs-All-Competitions',\n",
       " '/en/squads/b8fd03ef/2023-2024/matchlogs/all_comps/passing/Manchester-City-Match-Logs-All-Competitions',\n",
       " '/en/squads/b8fd03ef/2023-2024/matchlogs/all_comps/passing/Manchester-City-Match-Logs-All-Competitions',\n",
       " '/en/squads/b8fd03ef/2023-2024/matchlogs/all_comps/passing/Manchester-City-Match-Logs-All-Competitions']"
      ]
     },
     "execution_count": 14,
     "metadata": {},
     "output_type": "execute_result"
    }
   ],
   "source": [
    "#Parse in the html of the team data.In this cas,our teamin ManCity.\n",
    "passing_soup = BeautifulSoup(mancity_data.text)\n",
    "\n",
    "#Find all anchor tags for the passing data.\n",
    "passing_a_tags = passing_soup.find_all('a')\n",
    "\n",
    "# Extract the hrefs\n",
    "passings_hrefs = [l.get(\"href\") for l in passing_a_tags]\n",
    "\n",
    "#Extract the links that contain 'all_comps/passing/'\n",
    "passing_links = [l for l in passings_hrefs if l and'all_comps/passing/' in l]\n",
    "\n",
    "passing_links"
   ]
  },
  {
   "cell_type": "code",
   "execution_count": 15,
   "metadata": {},
   "outputs": [],
   "source": [
    "# Getting the html of the passing data.\n",
    "from bs4 import BeautifulSoup\n",
    "passing_data_html = requests.get(f\"https://fbref.com{passing_links[0]}\")\n"
   ]
  },
  {
   "cell_type": "code",
   "execution_count": 16,
   "metadata": {},
   "outputs": [],
   "source": [
    "\n",
    "passing_data = pd.read_html(passing_data_html.text, match= \"Passing\")\n"
   ]
  },
  {
   "cell_type": "code",
   "execution_count": 17,
   "metadata": {},
   "outputs": [
    {
     "data": {
      "text/html": [
       "<div>\n",
       "<style scoped>\n",
       "    .dataframe tbody tr th:only-of-type {\n",
       "        vertical-align: middle;\n",
       "    }\n",
       "\n",
       "    .dataframe tbody tr th {\n",
       "        vertical-align: top;\n",
       "    }\n",
       "\n",
       "    .dataframe thead tr th {\n",
       "        text-align: left;\n",
       "    }\n",
       "</style>\n",
       "<table border=\"1\" class=\"dataframe\">\n",
       "  <thead>\n",
       "    <tr>\n",
       "      <th></th>\n",
       "      <th colspan=\"2\" halign=\"left\">For Manchester City</th>\n",
       "      <th colspan=\"5\" halign=\"left\">Total</th>\n",
       "    </tr>\n",
       "    <tr>\n",
       "      <th></th>\n",
       "      <th>Date</th>\n",
       "      <th>Time</th>\n",
       "      <th>Cmp</th>\n",
       "      <th>Att</th>\n",
       "      <th>Cmp%</th>\n",
       "      <th>TotDist</th>\n",
       "      <th>PrgDist</th>\n",
       "    </tr>\n",
       "  </thead>\n",
       "  <tbody>\n",
       "    <tr>\n",
       "      <th>0</th>\n",
       "      <td>2023-08-06</td>\n",
       "      <td>16:00</td>\n",
       "      <td>NaN</td>\n",
       "      <td>NaN</td>\n",
       "      <td>NaN</td>\n",
       "      <td>NaN</td>\n",
       "      <td>NaN</td>\n",
       "    </tr>\n",
       "    <tr>\n",
       "      <th>1</th>\n",
       "      <td>2023-08-11</td>\n",
       "      <td>20:00</td>\n",
       "      <td>655.0</td>\n",
       "      <td>740.0</td>\n",
       "      <td>88.5</td>\n",
       "      <td>10790.0</td>\n",
       "      <td>3194.0</td>\n",
       "    </tr>\n",
       "    <tr>\n",
       "      <th>2</th>\n",
       "      <td>2023-08-16</td>\n",
       "      <td>22:00</td>\n",
       "      <td>NaN</td>\n",
       "      <td>NaN</td>\n",
       "      <td>NaN</td>\n",
       "      <td>NaN</td>\n",
       "      <td>NaN</td>\n",
       "    </tr>\n",
       "    <tr>\n",
       "      <th>3</th>\n",
       "      <td>2023-08-19</td>\n",
       "      <td>20:00</td>\n",
       "      <td>632.0</td>\n",
       "      <td>714.0</td>\n",
       "      <td>88.5</td>\n",
       "      <td>10155.0</td>\n",
       "      <td>2989.0</td>\n",
       "    </tr>\n",
       "    <tr>\n",
       "      <th>4</th>\n",
       "      <td>2023-08-27</td>\n",
       "      <td>14:00</td>\n",
       "      <td>707.0</td>\n",
       "      <td>793.0</td>\n",
       "      <td>89.2</td>\n",
       "      <td>12243.0</td>\n",
       "      <td>3342.0</td>\n",
       "    </tr>\n",
       "    <tr>\n",
       "      <th>5</th>\n",
       "      <td>2023-09-02</td>\n",
       "      <td>15:00</td>\n",
       "      <td>681.0</td>\n",
       "      <td>766.0</td>\n",
       "      <td>88.9</td>\n",
       "      <td>11763.0</td>\n",
       "      <td>3078.0</td>\n",
       "    </tr>\n",
       "    <tr>\n",
       "      <th>6</th>\n",
       "      <td>2023-09-16</td>\n",
       "      <td>15:00</td>\n",
       "      <td>676.0</td>\n",
       "      <td>747.0</td>\n",
       "      <td>90.5</td>\n",
       "      <td>10979.0</td>\n",
       "      <td>2860.0</td>\n",
       "    </tr>\n",
       "    <tr>\n",
       "      <th>7</th>\n",
       "      <td>2023-09-19</td>\n",
       "      <td>20:00</td>\n",
       "      <td>709.0</td>\n",
       "      <td>782.0</td>\n",
       "      <td>90.7</td>\n",
       "      <td>11385.0</td>\n",
       "      <td>3401.0</td>\n",
       "    </tr>\n",
       "    <tr>\n",
       "      <th>8</th>\n",
       "      <td>NaN</td>\n",
       "      <td>NaN</td>\n",
       "      <td>4060.0</td>\n",
       "      <td>4542.0</td>\n",
       "      <td>89.4</td>\n",
       "      <td>67315.0</td>\n",
       "      <td>18864.0</td>\n",
       "    </tr>\n",
       "  </tbody>\n",
       "</table>\n",
       "</div>"
      ],
      "text/plain": [
       "  For Manchester City          Total                                \n",
       "                 Date   Time     Cmp     Att  Cmp%  TotDist  PrgDist\n",
       "0          2023-08-06  16:00     NaN     NaN   NaN      NaN      NaN\n",
       "1          2023-08-11  20:00   655.0   740.0  88.5  10790.0   3194.0\n",
       "2          2023-08-16  22:00     NaN     NaN   NaN      NaN      NaN\n",
       "3          2023-08-19  20:00   632.0   714.0  88.5  10155.0   2989.0\n",
       "4          2023-08-27  14:00   707.0   793.0  89.2  12243.0   3342.0\n",
       "5          2023-09-02  15:00   681.0   766.0  88.9  11763.0   3078.0\n",
       "6          2023-09-16  15:00   676.0   747.0  90.5  10979.0   2860.0\n",
       "7          2023-09-19  20:00   709.0   782.0  90.7  11385.0   3401.0\n",
       "8                 NaN    NaN  4060.0  4542.0  89.4  67315.0  18864.0"
      ]
     },
     "execution_count": 17,
     "metadata": {},
     "output_type": "execute_result"
    }
   ],
   "source": [
    "# Select the first DataFrame from the list (index 0) and store it in pass_data\n",
    "pass_data = passing_data[0].loc[:, [('For Manchester City', 'Date'),\n",
    "                                     ('For Manchester City', 'Time')] + [('Total', col) \n",
    "                                                                         for col in passing_data[0]['Total'].columns]]\n",
    "\n",
    "pass_data"
   ]
  },
  {
   "cell_type": "code",
   "execution_count": 18,
   "metadata": {},
   "outputs": [
    {
     "data": {
      "text/html": [
       "<div>\n",
       "<style scoped>\n",
       "    .dataframe tbody tr th:only-of-type {\n",
       "        vertical-align: middle;\n",
       "    }\n",
       "\n",
       "    .dataframe tbody tr th {\n",
       "        vertical-align: top;\n",
       "    }\n",
       "\n",
       "    .dataframe thead th {\n",
       "        text-align: right;\n",
       "    }\n",
       "</style>\n",
       "<table border=\"1\" class=\"dataframe\">\n",
       "  <thead>\n",
       "    <tr style=\"text-align: right;\">\n",
       "      <th></th>\n",
       "      <th>Date</th>\n",
       "      <th>Time</th>\n",
       "      <th>Cmp</th>\n",
       "      <th>Att</th>\n",
       "      <th>Cmp%</th>\n",
       "      <th>TotDist</th>\n",
       "      <th>PrgDist</th>\n",
       "    </tr>\n",
       "  </thead>\n",
       "  <tbody>\n",
       "    <tr>\n",
       "      <th>0</th>\n",
       "      <td>2023-08-06</td>\n",
       "      <td>16:00</td>\n",
       "      <td>NaN</td>\n",
       "      <td>NaN</td>\n",
       "      <td>NaN</td>\n",
       "      <td>NaN</td>\n",
       "      <td>NaN</td>\n",
       "    </tr>\n",
       "    <tr>\n",
       "      <th>1</th>\n",
       "      <td>2023-08-11</td>\n",
       "      <td>20:00</td>\n",
       "      <td>655.0</td>\n",
       "      <td>740.0</td>\n",
       "      <td>88.5</td>\n",
       "      <td>10790.0</td>\n",
       "      <td>3194.0</td>\n",
       "    </tr>\n",
       "  </tbody>\n",
       "</table>\n",
       "</div>"
      ],
      "text/plain": [
       "         Date   Time    Cmp    Att  Cmp%  TotDist  PrgDist\n",
       "0  2023-08-06  16:00    NaN    NaN   NaN      NaN      NaN\n",
       "1  2023-08-11  20:00  655.0  740.0  88.5  10790.0   3194.0"
      ]
     },
     "execution_count": 18,
     "metadata": {},
     "output_type": "execute_result"
    }
   ],
   "source": [
    "pass_data.columns = pass_data.columns.droplevel()\n",
    "pass_data.head(2)"
   ]
  },
  {
   "cell_type": "markdown",
   "metadata": {
    "id": "6r0waiilBBSD"
   },
   "source": [
    "##### Merging matches and shooting data"
   ]
  },
  {
   "cell_type": "code",
   "execution_count": 19,
   "metadata": {
    "colab": {
     "base_uri": "https://localhost:8080/",
     "height": 446
    },
    "id": "0VZWL4bsBFRk",
    "outputId": "353a5cdd-5629-4063-a157-6812da59dc46"
   },
   "outputs": [
    {
     "data": {
      "text/html": [
       "<div>\n",
       "<style scoped>\n",
       "    .dataframe tbody tr th:only-of-type {\n",
       "        vertical-align: middle;\n",
       "    }\n",
       "\n",
       "    .dataframe tbody tr th {\n",
       "        vertical-align: top;\n",
       "    }\n",
       "\n",
       "    .dataframe thead th {\n",
       "        text-align: right;\n",
       "    }\n",
       "</style>\n",
       "<table border=\"1\" class=\"dataframe\">\n",
       "  <thead>\n",
       "    <tr style=\"text-align: right;\">\n",
       "      <th></th>\n",
       "      <th>Date</th>\n",
       "      <th>Time_x</th>\n",
       "      <th>Comp</th>\n",
       "      <th>Round</th>\n",
       "      <th>Day</th>\n",
       "      <th>Venue</th>\n",
       "      <th>Result</th>\n",
       "      <th>GF</th>\n",
       "      <th>GA</th>\n",
       "      <th>Opponent</th>\n",
       "      <th>...</th>\n",
       "      <th>Dist</th>\n",
       "      <th>FK</th>\n",
       "      <th>PK</th>\n",
       "      <th>PKatt</th>\n",
       "      <th>Time_y</th>\n",
       "      <th>Cmp</th>\n",
       "      <th>Att</th>\n",
       "      <th>Cmp%</th>\n",
       "      <th>TotDist</th>\n",
       "      <th>PrgDist</th>\n",
       "    </tr>\n",
       "  </thead>\n",
       "  <tbody>\n",
       "    <tr>\n",
       "      <th>0</th>\n",
       "      <td>2023-08-06</td>\n",
       "      <td>16:00</td>\n",
       "      <td>Community Shield</td>\n",
       "      <td>FA Community Shield</td>\n",
       "      <td>Sun</td>\n",
       "      <td>Neutral</td>\n",
       "      <td>D</td>\n",
       "      <td>1 (1)</td>\n",
       "      <td>1 (4)</td>\n",
       "      <td>Arsenal</td>\n",
       "      <td>...</td>\n",
       "      <td>NaN</td>\n",
       "      <td>NaN</td>\n",
       "      <td>0</td>\n",
       "      <td>0</td>\n",
       "      <td>16:00</td>\n",
       "      <td>NaN</td>\n",
       "      <td>NaN</td>\n",
       "      <td>NaN</td>\n",
       "      <td>NaN</td>\n",
       "      <td>NaN</td>\n",
       "    </tr>\n",
       "    <tr>\n",
       "      <th>1</th>\n",
       "      <td>2023-08-11</td>\n",
       "      <td>20:00</td>\n",
       "      <td>Premier League</td>\n",
       "      <td>Matchweek 1</td>\n",
       "      <td>Fri</td>\n",
       "      <td>Away</td>\n",
       "      <td>W</td>\n",
       "      <td>3</td>\n",
       "      <td>0</td>\n",
       "      <td>Burnley</td>\n",
       "      <td>...</td>\n",
       "      <td>13.9</td>\n",
       "      <td>0.0</td>\n",
       "      <td>0</td>\n",
       "      <td>0</td>\n",
       "      <td>20:00</td>\n",
       "      <td>655.0</td>\n",
       "      <td>740.0</td>\n",
       "      <td>88.5</td>\n",
       "      <td>10790.0</td>\n",
       "      <td>3194.0</td>\n",
       "    </tr>\n",
       "  </tbody>\n",
       "</table>\n",
       "<p>2 rows × 31 columns</p>\n",
       "</div>"
      ],
      "text/plain": [
       "         Date Time_x              Comp                Round  Day    Venue   \n",
       "0  2023-08-06  16:00  Community Shield  FA Community Shield  Sun  Neutral  \\\n",
       "1  2023-08-11  20:00    Premier League          Matchweek 1  Fri     Away   \n",
       "\n",
       "  Result     GF     GA Opponent  ...  Dist   FK  PK  PKatt Time_y    Cmp   \n",
       "0      D  1 (1)  1 (4)  Arsenal  ...   NaN  NaN   0      0  16:00    NaN  \\\n",
       "1      W      3      0  Burnley  ...  13.9  0.0   0      0  20:00  655.0   \n",
       "\n",
       "     Att  Cmp%  TotDist  PrgDist  \n",
       "0    NaN   NaN      NaN      NaN  \n",
       "1  740.0  88.5  10790.0   3194.0  \n",
       "\n",
       "[2 rows x 31 columns]"
      ]
     },
     "execution_count": 19,
     "metadata": {},
     "output_type": "execute_result"
    }
   ],
   "source": [
    "mancity_team_data = mancity_matches[0].merge(shooting_data[[\"Date\", \"Sh\", \"SoT\", \"Dist\", \"FK\", \"PK\", \"PKatt\"]], on=\"Date\").merge(pass_data, on=\"Date\")\n",
    "mancity_team_data.head(2)"
   ]
  },
  {
   "cell_type": "markdown",
   "metadata": {
    "id": "9Q4GJxrWGxaM"
   },
   "source": [
    "#### Scrapping for multiple season and teams."
   ]
  },
  {
   "cell_type": "code",
   "execution_count": 20,
   "metadata": {
    "colab": {
     "base_uri": "https://localhost:8080/"
    },
    "id": "5BfAbWJfCeUk",
    "outputId": "c9fbc68b-8407-4e13-dfe5-9a60696b376e"
   },
   "outputs": [
    {
     "data": {
      "text/plain": [
       "[2023, 2022, 2021, 2020, 2019, 2018]"
      ]
     },
     "execution_count": 20,
     "metadata": {},
     "output_type": "execute_result"
    }
   ],
   "source": [
    "#settings list of years we want to scrap.\n",
    "years = list(range(2023, 2017, -1))\n",
    "years"
   ]
  },
  {
   "cell_type": "code",
   "execution_count": 21,
   "metadata": {
    "id": "CO5zE-VIHGP8"
   },
   "outputs": [],
   "source": [
    "# This list holds multiple dataframes, each dataframe will contain match logs of one team in one season.\n",
    "all_matches = []"
   ]
  },
  {
   "cell_type": "code",
   "execution_count": 22,
   "metadata": {
    "id": "qI6T9jHkHitN"
   },
   "outputs": [],
   "source": [
    "standings_url = \"https://fbref.com/en/comps/9/Premier-League-Stats\""
   ]
  },
  {
   "cell_type": "code",
   "execution_count": 39,
   "metadata": {},
   "outputs": [],
   "source": [
    "for year in years:\n",
    "    data = requests.get(standings_url)\n",
    "    soup = BeautifulSoup(data.text, 'html.parser')\n",
    "    standings_table = soup.select(\"table.stats_table\")[0]\n",
    "    links = [l.get(\"href\") for l in standings_table.find_all(\"a\")]\n",
    "    links = [l for l in links if '/squads/' in l]\n",
    "    team_urls = [f\"https://fbref.com{l}\" for l in links]\n",
    "\n",
    "    previous_season = soup.select(\"a.prev\")[0].get(\"href\")\n",
    "    standings_url = f\"http://fbref.com{previous_season}\"\n",
    "\n",
    "    for team_url in team_urls:\n",
    "        team_name = team_url.split(\"/\")[-1].replace(\"-Stats\", \" \").replace(\"-\", \" \")\n",
    "        data = requests.get(team_url)\n",
    "        soup = BeautifulSoup(data.text, 'html.parser')\n",
    "        \n",
    "        # Example: Extracting data from a specific table with a class\n",
    "        passing_table = soup.find('table', {'class': 'passing-table-class'})\n",
    "        passing_data = []  # Initialize a list to store the extracted data\n",
    "        \n",
    "        if passing_table:\n",
    "            rows = passing_table.find_all('tr')\n",
    "            for row in rows:\n",
    "                cols = row.find_all('td')\n",
    "                cols_data = [col.text.strip() for col in cols]\n",
    "                passing_data.append(cols_data)\n",
    "        \n",
    "        # You can adapt the code for extracting shooting data as well\n",
    "        \n",
    "        try:\n",
    "            team_data = matches.merge(shooting[[\"Date\", \"Sh\", \"SoT\", \"FK\", \"Dist\", \"PK\", \"PKatt\"]], on=\"Date\")\n",
    "        except ValueError:\n",
    "            continue\n",
    "        \n",
    "        team_data = team_data[team_data[\"Comp\"] == \"Premier League\"]\n",
    "        team_data[\"Season\"] = year\n",
    "        team_data[\"Team\"] = team_name\n",
    "        all_matches.append(team_data)\n",
    "        time.sleep(3)\n"
   ]
  },
  {
   "cell_type": "code",
   "execution_count": 41,
   "metadata": {},
   "outputs": [],
   "source": [
    "#Merging the data using dataframe\n",
    "import pandas as pd\n",
    "\n",
    "# Assuming all_matches is a list of DataFrames\n",
    "data = pd.concat(all_matches, ignore_index=True)"
   ]
  },
  {
   "cell_type": "code",
   "execution_count": 45,
   "metadata": {
    "scrolled": true
   },
   "outputs": [
    {
     "data": {
      "text/html": [
       "<div>\n",
       "<style scoped>\n",
       "    .dataframe tbody tr th:only-of-type {\n",
       "        vertical-align: middle;\n",
       "    }\n",
       "\n",
       "    .dataframe tbody tr th {\n",
       "        vertical-align: top;\n",
       "    }\n",
       "\n",
       "    .dataframe thead th {\n",
       "        text-align: right;\n",
       "    }\n",
       "</style>\n",
       "<table border=\"1\" class=\"dataframe\">\n",
       "  <thead>\n",
       "    <tr style=\"text-align: right;\">\n",
       "      <th></th>\n",
       "      <th>Date</th>\n",
       "      <th>Time</th>\n",
       "      <th>Comp</th>\n",
       "      <th>Round</th>\n",
       "      <th>Day</th>\n",
       "      <th>Venue</th>\n",
       "      <th>Result</th>\n",
       "      <th>GF</th>\n",
       "      <th>GA</th>\n",
       "      <th>Opponent</th>\n",
       "      <th>...</th>\n",
       "      <th>Match Report</th>\n",
       "      <th>Notes</th>\n",
       "      <th>Sh</th>\n",
       "      <th>SoT</th>\n",
       "      <th>FK</th>\n",
       "      <th>Dist</th>\n",
       "      <th>PK</th>\n",
       "      <th>PKatt</th>\n",
       "      <th>Season</th>\n",
       "      <th>Team</th>\n",
       "    </tr>\n",
       "  </thead>\n",
       "  <tbody>\n",
       "    <tr>\n",
       "      <th>0</th>\n",
       "      <td>2023-08-06</td>\n",
       "      <td>16:00</td>\n",
       "      <td>Community Shield</td>\n",
       "      <td>FA Community Shield</td>\n",
       "      <td>Sun</td>\n",
       "      <td>Neutral</td>\n",
       "      <td>D</td>\n",
       "      <td>1 (1)</td>\n",
       "      <td>1 (4)</td>\n",
       "      <td>Arsenal</td>\n",
       "      <td>...</td>\n",
       "      <td>Match Report</td>\n",
       "      <td>Arsenal won on penalty kicks following normal ...</td>\n",
       "      <td>8.0</td>\n",
       "      <td>4.0</td>\n",
       "      <td>NaN</td>\n",
       "      <td>NaN</td>\n",
       "      <td>0.0</td>\n",
       "      <td>0.0</td>\n",
       "      <td>2023</td>\n",
       "      <td>Manchester City</td>\n",
       "    </tr>\n",
       "    <tr>\n",
       "      <th>1</th>\n",
       "      <td>2023-08-11</td>\n",
       "      <td>20:00</td>\n",
       "      <td>Premier League</td>\n",
       "      <td>Matchweek 1</td>\n",
       "      <td>Fri</td>\n",
       "      <td>Away</td>\n",
       "      <td>W</td>\n",
       "      <td>3</td>\n",
       "      <td>0</td>\n",
       "      <td>Burnley</td>\n",
       "      <td>...</td>\n",
       "      <td>Match Report</td>\n",
       "      <td>NaN</td>\n",
       "      <td>17.0</td>\n",
       "      <td>8.0</td>\n",
       "      <td>0.0</td>\n",
       "      <td>13.9</td>\n",
       "      <td>0.0</td>\n",
       "      <td>0.0</td>\n",
       "      <td>2023</td>\n",
       "      <td>Manchester City</td>\n",
       "    </tr>\n",
       "    <tr>\n",
       "      <th>2</th>\n",
       "      <td>2023-08-16</td>\n",
       "      <td>22:00</td>\n",
       "      <td>Super Cup</td>\n",
       "      <td>UEFA Super Cup</td>\n",
       "      <td>Wed</td>\n",
       "      <td>Home</td>\n",
       "      <td>D</td>\n",
       "      <td>1 (5)</td>\n",
       "      <td>1 (4)</td>\n",
       "      <td>es Sevilla</td>\n",
       "      <td>...</td>\n",
       "      <td>Match Report</td>\n",
       "      <td>NaN</td>\n",
       "      <td>23.0</td>\n",
       "      <td>7.0</td>\n",
       "      <td>NaN</td>\n",
       "      <td>NaN</td>\n",
       "      <td>0.0</td>\n",
       "      <td>0.0</td>\n",
       "      <td>2023</td>\n",
       "      <td>Manchester City</td>\n",
       "    </tr>\n",
       "  </tbody>\n",
       "</table>\n",
       "<p>3 rows × 27 columns</p>\n",
       "</div>"
      ],
      "text/plain": [
       "         Date   Time              Comp                Round  Day    Venue   \n",
       "0  2023-08-06  16:00  Community Shield  FA Community Shield  Sun  Neutral  \\\n",
       "1  2023-08-11  20:00    Premier League          Matchweek 1  Fri     Away   \n",
       "2  2023-08-16  22:00         Super Cup       UEFA Super Cup  Wed     Home   \n",
       "\n",
       "  Result     GF     GA    Opponent  ...  Match Report   \n",
       "0      D  1 (1)  1 (4)     Arsenal  ...  Match Report  \\\n",
       "1      W      3      0     Burnley  ...  Match Report   \n",
       "2      D  1 (5)  1 (4)  es Sevilla  ...  Match Report   \n",
       "\n",
       "                                               Notes    Sh  SoT   FK  Dist   \n",
       "0  Arsenal won on penalty kicks following normal ...   8.0  4.0  NaN   NaN  \\\n",
       "1                                                NaN  17.0  8.0  0.0  13.9   \n",
       "2                                                NaN  23.0  7.0  NaN   NaN   \n",
       "\n",
       "    PK PKatt Season              Team  \n",
       "0  0.0   0.0   2023  Manchester City   \n",
       "1  0.0   0.0   2023  Manchester City   \n",
       "2  0.0   0.0   2023  Manchester City   \n",
       "\n",
       "[3 rows x 27 columns]"
      ]
     },
     "execution_count": 45,
     "metadata": {},
     "output_type": "execute_result"
    }
   ],
   "source": [
    "data.head(3)"
   ]
  },
  {
   "cell_type": "code",
   "execution_count": 51,
   "metadata": {},
   "outputs": [
    {
     "data": {
      "text/plain": [
       "(9456, 27)"
      ]
     },
     "execution_count": 51,
     "metadata": {},
     "output_type": "execute_result"
    }
   ],
   "source": [
    "\n",
    "data.shape"
   ]
  },
  {
   "cell_type": "code",
   "execution_count": 46,
   "metadata": {
    "scrolled": false
   },
   "outputs": [
    {
     "name": "stdout",
     "output_type": "stream",
     "text": [
      "<class 'pandas.core.frame.DataFrame'>\n",
      "RangeIndex: 9456 entries, 0 to 9455\n",
      "Data columns (total 27 columns):\n",
      " #   Column        Non-Null Count  Dtype  \n",
      "---  ------        --------------  -----  \n",
      " 0   Date          9456 non-null   object \n",
      " 1   Time          9456 non-null   object \n",
      " 2   Comp          9456 non-null   object \n",
      " 3   Round         9456 non-null   object \n",
      " 4   Day           9456 non-null   object \n",
      " 5   Venue         9456 non-null   object \n",
      " 6   Result        9456 non-null   object \n",
      " 7   GF            9456 non-null   object \n",
      " 8   GA            9456 non-null   object \n",
      " 9   Opponent      9456 non-null   object \n",
      " 10  xG            8835 non-null   float64\n",
      " 11  xGA           8835 non-null   float64\n",
      " 12  Poss          9436 non-null   float64\n",
      " 13  Attendance    8359 non-null   float64\n",
      " 14  Captain       9454 non-null   object \n",
      " 15  Formation     9454 non-null   object \n",
      " 16  Referee       9455 non-null   object \n",
      " 17  Match Report  9456 non-null   object \n",
      " 18  Notes         310 non-null    object \n",
      " 19  Sh            9436 non-null   float64\n",
      " 20  SoT           9436 non-null   float64\n",
      " 21  FK            8835 non-null   float64\n",
      " 22  Dist          8833 non-null   float64\n",
      " 23  PK            9454 non-null   float64\n",
      " 24  PKatt         9454 non-null   float64\n",
      " 25  Season        9456 non-null   int64  \n",
      " 26  Team          9456 non-null   object \n",
      "dtypes: float64(10), int64(1), object(16)\n",
      "memory usage: 1.9+ MB\n"
     ]
    }
   ],
   "source": [
    "#Checking for data info\n",
    "data.info()"
   ]
  },
  {
   "cell_type": "code",
   "execution_count": 47,
   "metadata": {
    "scrolled": false
   },
   "outputs": [
    {
     "data": {
      "text/plain": [
       "Date               0\n",
       "Time               0\n",
       "Comp               0\n",
       "Round              0\n",
       "Day                0\n",
       "Venue              0\n",
       "Result             0\n",
       "GF                 0\n",
       "GA                 0\n",
       "Opponent           0\n",
       "xG               621\n",
       "xGA              621\n",
       "Poss              20\n",
       "Attendance      1097\n",
       "Captain            2\n",
       "Formation          2\n",
       "Referee            1\n",
       "Match Report       0\n",
       "Notes           9146\n",
       "Sh                20\n",
       "SoT               20\n",
       "FK               621\n",
       "Dist             623\n",
       "PK                 2\n",
       "PKatt              2\n",
       "Season             0\n",
       "Team               0\n",
       "dtype: int64"
      ]
     },
     "execution_count": 47,
     "metadata": {},
     "output_type": "execute_result"
    }
   ],
   "source": [
    "#Checking for null values\n",
    "data.isna().sum()"
   ]
  },
  {
   "cell_type": "code",
   "execution_count": 48,
   "metadata": {},
   "outputs": [],
   "source": [
    "# Save to csv\n",
    "data.to_csv(\"Football_analysis.csv\")"
   ]
  },
  {
   "cell_type": "code",
   "execution_count": 50,
   "metadata": {},
   "outputs": [
    {
     "data": {
      "text/plain": [
       "Index(['Date', 'Time', 'Comp', 'Round', 'Day', 'Venue', 'Result', 'GF', 'GA',\n",
       "       'Opponent', 'xG', 'xGA', 'Poss', 'Attendance', 'Captain', 'Formation',\n",
       "       'Referee', 'Match Report', 'Notes', 'Sh', 'SoT', 'FK', 'Dist', 'PK',\n",
       "       'PKatt', 'Season', 'Team'],\n",
       "      dtype='object')"
      ]
     },
     "execution_count": 50,
     "metadata": {},
     "output_type": "execute_result"
    }
   ],
   "source": [
    "#Checking the columns\n",
    "data.columns"
   ]
  },
  {
   "cell_type": "code",
   "execution_count": 54,
   "metadata": {},
   "outputs": [
    {
     "data": {
      "text/plain": [
       "array(['Manchester City ', 'Tottenham Hotspur ', 'Liverpool ', 'Arsenal ',\n",
       "       'Brighton and Hove Albion ', 'West Ham United ', 'Aston Villa ',\n",
       "       'Nottingham Forest ', 'Crystal Palace ', 'Fulham ', 'Brentford ',\n",
       "       'Newcastle United ', 'Manchester United ', 'Chelsea ',\n",
       "       'Bournemouth ', 'Wolverhampton Wanderers ', 'Sheffield United ',\n",
       "       'Everton ', 'Burnley ', 'Luton Town ', 'Leicester City ',\n",
       "       'Leeds United ', 'Southampton ', 'Watford ', 'Norwich City ',\n",
       "       'West Bromwich Albion ', 'Cardiff City ', 'Huddersfield Town ',\n",
       "       'Swansea City ', 'Stoke City ', 'Hull City ', 'Middlesbrough ',\n",
       "       'Sunderland ', 'Queens Park Rangers ', 'Wigan Athletic ',\n",
       "       'Reading '], dtype=object)"
      ]
     },
     "execution_count": 54,
     "metadata": {},
     "output_type": "execute_result"
    }
   ],
   "source": [
    "# Checking on unique\n",
    "data[\"Team\"].unique()"
   ]
  }
 ],
 "metadata": {
  "colab": {
   "provenance": []
  },
  "kernelspec": {
   "display_name": "Python 3 (ipykernel)",
   "language": "python",
   "name": "python3"
  },
  "language_info": {
   "codemirror_mode": {
    "name": "ipython",
    "version": 3
   },
   "file_extension": ".py",
   "mimetype": "text/x-python",
   "name": "python",
   "nbconvert_exporter": "python",
   "pygments_lexer": "ipython3",
   "version": "3.11.0"
  },
  "vscode": {
   "interpreter": {
    "hash": "57bc2b6ce032b5f0e93daa91901b7ea38a856826ef43aa9e95b6d3999f5310df"
   }
  }
 },
 "nbformat": 4,
 "nbformat_minor": 1
}
